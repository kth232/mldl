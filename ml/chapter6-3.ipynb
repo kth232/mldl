{
 "cells": [
  {
   "cell_type": "code",
   "execution_count": null,
   "metadata": {},
   "outputs": [],
   "source": [
    "import numpy as np\n",
    "\n",
    "fruits = np.load('fruits_300.npy')\n",
    "fruits_2d = fruits.reshape(-1, 100*100)"
   ]
  },
  {
   "cell_type": "code",
   "execution_count": null,
   "metadata": {},
   "outputs": [],
   "source": [
    "from sklearn.decomposition import PCA\n",
    "\n",
    "pca = PCA(n_components=50)\n",
    "pca.fit(fruits_2d)"
   ]
  },
  {
   "cell_type": "code",
   "execution_count": null,
   "metadata": {},
   "outputs": [],
   "source": [
    "print(pca.components_.shape)"
   ]
  },
  {
   "cell_type": "code",
   "execution_count": null,
   "metadata": {},
   "outputs": [],
   "source": [
    "import matplotlib.pyplot as plt\n",
    "\n",
    "def draw_fruits(arr, ratio=1):\n",
    "    n = len(arr)    # n=샘플 개수\n",
    "    # 샘플 개수를 10으로 나누어 전체 행 개수를 계산->한 줄에 10개씩 이미지를 그린다. \n",
    "    rows = int(np.ceil(n/10))\n",
    "    # 행이 1개 이면 열 개수는 샘플 개수, 아니면 10개\n",
    "    # figsiz는 ratio에 비례해서 증가\n",
    "    cols = n if rows < 2 else 10\n",
    "    fig, axs = plt.subplots(rows, cols,\n",
    "                            figsize=(cols*ratio, rows*ratio), squeeze=False)\n",
    "    for i in range(rows):\n",
    "        for j in range(cols):\n",
    "            if i*10 + j < n:    # n 개까지만 그림\n",
    "                axs[i, j].imshow(arr[i*10 + j], cmap='gray_r')\n",
    "            axs[i, j].axis('off')\n",
    "    plt.show()"
   ]
  },
  {
   "cell_type": "code",
   "execution_count": null,
   "metadata": {},
   "outputs": [],
   "source": [
    "print(fruits_2d.shape)"
   ]
  },
  {
   "cell_type": "code",
   "execution_count": null,
   "metadata": {},
   "outputs": [],
   "source": [
    "fruits_pca = pca.transform(fruits_2d)"
   ]
  },
  {
   "cell_type": "code",
   "execution_count": null,
   "metadata": {},
   "outputs": [],
   "source": [
    "print(fruits_pca.shape)"
   ]
  },
  {
   "cell_type": "code",
   "execution_count": null,
   "metadata": {},
   "outputs": [],
   "source": [
    "fruits_inverse = pca.inverse_transform(fruits_pca)\n",
    "print(fruits_inverse.shape)"
   ]
  },
  {
   "cell_type": "code",
   "execution_count": null,
   "metadata": {},
   "outputs": [],
   "source": [
    "fruits_reconstruct = fruits_inverse.reshape(-1, 100, 100)"
   ]
  },
  {
   "cell_type": "code",
   "execution_count": null,
   "metadata": {},
   "outputs": [],
   "source": [
    "for start in [0, 100, 200]:\n",
    "    draw_fruits(fruits_reconstruct[start:start+100])\n",
    "    print(\"\\n\")"
   ]
  },
  {
   "cell_type": "code",
   "execution_count": null,
   "metadata": {},
   "outputs": [],
   "source": [
    "print(np.sum(pca.explained_variance_ratio_))"
   ]
  },
  {
   "cell_type": "code",
   "execution_count": null,
   "metadata": {},
   "outputs": [],
   "source": [
    "plt.plot(pca.explained_variance_ratio_)"
   ]
  },
  {
   "cell_type": "code",
   "execution_count": null,
   "metadata": {},
   "outputs": [],
   "source": [
    "from sklearn.linear_model import LogisticRegression\n",
    "\n",
    "lr = LogisticRegression()"
   ]
  },
  {
   "cell_type": "code",
   "execution_count": null,
   "metadata": {},
   "outputs": [],
   "source": [
    "target = np.array([0] * 100 + [1] * 100 + [2] * 100)"
   ]
  },
  {
   "cell_type": "code",
   "execution_count": null,
   "metadata": {},
   "outputs": [],
   "source": [
    "from sklearn.model_selection import cross_validate\n",
    "\n",
    "scores = cross_validate(lr, fruits_2d, target)\n",
    "print(np.mean(scores['test_score']))\n",
    "print(np.mean(scores['fit_time']))"
   ]
  },
  {
   "cell_type": "code",
   "execution_count": null,
   "metadata": {},
   "outputs": [],
   "source": [
    "scores = cross_validate(lr, fruits_pca, target)\n",
    "print(np.mean(scores['test_score']))\n",
    "print(np.mean(scores['fit_time']))"
   ]
  },
  {
   "cell_type": "code",
   "execution_count": null,
   "metadata": {},
   "outputs": [],
   "source": [
    "pca = PCA(n_components=0.5)\n",
    "pca.fit(fruits_2d)"
   ]
  },
  {
   "cell_type": "code",
   "execution_count": null,
   "metadata": {},
   "outputs": [],
   "source": [
    "print(pca.n_components_)"
   ]
  },
  {
   "cell_type": "code",
   "execution_count": null,
   "metadata": {},
   "outputs": [],
   "source": [
    "fruits_pca = pca.transform(fruits_2d)\n",
    "print(fruits_pca.shape)"
   ]
  },
  {
   "cell_type": "code",
   "execution_count": null,
   "metadata": {},
   "outputs": [],
   "source": [
    "scores = cross_validate(lr, fruits_pca, target)\n",
    "print(np.mean(scores['test_score']))\n",
    "print(np.mean(scores['fit_time']))"
   ]
  },
  {
   "cell_type": "code",
   "execution_count": null,
   "metadata": {},
   "outputs": [],
   "source": [
    "from sklearn.cluster import KMeans\n",
    "\n",
    "km = KMeans(n_clusters=3, random_state=42)\n",
    "km.fit(fruits_pca)"
   ]
  },
  {
   "cell_type": "code",
   "execution_count": null,
   "metadata": {},
   "outputs": [],
   "source": [
    "print(np.unique(km.labels_, return_counts=True))"
   ]
  },
  {
   "cell_type": "code",
   "execution_count": null,
   "metadata": {},
   "outputs": [],
   "source": [
    "for label in range(0, 3):\n",
    "    draw_fruits(fruits[km.labels_ == label])\n",
    "    print(\"\\n\")"
   ]
  },
  {
   "cell_type": "code",
   "execution_count": null,
   "metadata": {},
   "outputs": [],
   "source": [
    "for label in range(0, 3):\n",
    "    data = fruits_pca[km.labels_ == label]\n",
    "    plt.scatter(data[:,0], data[:,1])\n",
    "plt.legend(['pineapple', 'banana', 'apple'])\n",
    "plt.show()"
   ]
  }
 ],
 "metadata": {
  "language_info": {
   "name": "python"
  }
 },
 "nbformat": 4,
 "nbformat_minor": 2
}
